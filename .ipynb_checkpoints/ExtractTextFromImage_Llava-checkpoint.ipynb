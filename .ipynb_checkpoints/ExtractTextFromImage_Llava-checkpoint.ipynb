{
 "cells": [
  {
   "cell_type": "code",
   "execution_count": 82,
   "id": "5a4041c3-15d7-4de2-8d82-fbbfe656448e",
   "metadata": {},
   "outputs": [],
   "source": [
    "import ollama \n",
    "from ollama import generate \n",
    "from PIL import Image\n",
    "from io import BytesIO\n",
    "import os\n",
    "import matplotlib.pyplot as plt\n",
    "import matplotlib.image as img"
   ]
  },
  {
   "cell_type": "code",
   "execution_count": 83,
   "id": "f76fb9e9-c554-43ad-bf83-dc95938369c8",
   "metadata": {},
   "outputs": [
    {
     "name": "stdout",
     "output_type": "stream",
     "text": [
      " The text in the image is as follows:\n",
      "\n",
      "```\n",
      "Company B income statement for Year ended September 29, 2019.\n",
      "In thousands of dollars.\n",
      "Net sales                             $6,873\n",
      "Cost of goods sold                            $4,975\n",
      "Gross profit                               $1,898\n",
      "Operating expenses:\n",
      "Selling and marketing expenses                $3,839\n",
      "General and administrative expenses         $2,054\n",
      "Total operating expenses                           $5,893\n",
      "Other income (expense)                                   -765\n",
      "Cross profit                                    -215\n",
      "Net loss on foreign currency transactions                       -1,241\n",
      "Interest expense                                      -124\n",
      "Income tax expense                                       -392\n",
      "Operating income                                                $6,080\n",
      "Total expenses                                            $6,080\n",
      "Other income                                                       7,509\n",
      "Net income before taxes                                           $3,417\n",
      "Taxes on income before taxes                                            1,221\n",
      "Tax expense                                                   -867\n",
      "Income tax expense                                                     -867\n",
      "Net income after taxes                                                $3,417\n",
      "Total net income                                                      $3,417\n",
      "Income per share                                                       1.50\n",
      "Diluted earnings per share                                                   1.50\n",
      "Weighted average shares outstanding                                      6,824,405\n",
      "``` \n"
     ]
    }
   ],
   "source": [
    "with open('img/bl.jpg', 'rb') as file:\n",
    "  response = ollama.chat(\n",
    "      \n",
    "    model='llava',\n",
    "    messages=[\n",
    "      {\n",
    "        'role': 'user',\n",
    "        'content': 'Please act as an Optical Character Recognition and extract all the text in the image as well as you can  ',\n",
    "        'images': [file.read()],\n",
    "      },\n",
    "    ],\n",
    "  )\n",
    "print(response['message']['content'])"
   ]
  },
  {
   "cell_type": "code",
   "execution_count": null,
   "id": "bba1c8c3-e571-481e-8225-61d2352e273d",
   "metadata": {},
   "outputs": [],
   "source": []
  },
  {
   "cell_type": "code",
   "execution_count": null,
   "id": "974ec018-9995-4339-bd93-5ae7c17deab9",
   "metadata": {},
   "outputs": [],
   "source": []
  },
  {
   "cell_type": "code",
   "execution_count": null,
   "id": "cd654526-6d37-4f95-8837-7fa3c7f76703",
   "metadata": {},
   "outputs": [],
   "source": []
  },
  {
   "cell_type": "code",
   "execution_count": null,
   "id": "5a67059b-63f8-4b25-94a6-6a2848990a5c",
   "metadata": {},
   "outputs": [],
   "source": []
  },
  {
   "cell_type": "code",
   "execution_count": null,
   "id": "8f063184-a507-4936-bd51-bed276feba01",
   "metadata": {},
   "outputs": [],
   "source": []
  },
  {
   "cell_type": "code",
   "execution_count": null,
   "id": "61259260-7dee-4f27-8a92-eea2f09c3854",
   "metadata": {},
   "outputs": [],
   "source": []
  },
  {
   "cell_type": "code",
   "execution_count": null,
   "id": "6f344b00-2198-4bb0-90f8-8999785de9a9",
   "metadata": {},
   "outputs": [],
   "source": []
  },
  {
   "cell_type": "code",
   "execution_count": null,
   "id": "ece699f9-af15-4936-8339-2e224cdee63e",
   "metadata": {},
   "outputs": [],
   "source": []
  },
  {
   "cell_type": "code",
   "execution_count": null,
   "id": "5768672e-2385-4533-b795-8f7e9c0eedee",
   "metadata": {},
   "outputs": [],
   "source": []
  }
 ],
 "metadata": {
  "kernelspec": {
   "display_name": "Python 3 (ipykernel)",
   "language": "python",
   "name": "python3"
  },
  "language_info": {
   "codemirror_mode": {
    "name": "ipython",
    "version": 3
   },
   "file_extension": ".py",
   "mimetype": "text/x-python",
   "name": "python",
   "nbconvert_exporter": "python",
   "pygments_lexer": "ipython3",
   "version": "3.10.13"
  }
 },
 "nbformat": 4,
 "nbformat_minor": 5
}
