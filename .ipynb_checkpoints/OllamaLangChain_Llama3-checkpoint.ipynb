{
 "cells": [
  {
   "cell_type": "code",
   "execution_count": 1,
   "id": "95690211-eaac-4407-af0d-523b4e1d0393",
   "metadata": {},
   "outputs": [
    {
     "name": "stdin",
     "output_type": "stream",
     "text": [
      "What is your question? Why is the sky blue? \n"
     ]
    },
    {
     "name": "stdout",
     "output_type": "stream",
     "text": [
      "The color of the sky can vary depending on the time of day, atmospheric conditions, and the amount of dust and water vapor in the air. However, the main reason why the sky typically appears blue to our eyes is due to a phenomenon called Rayleigh scattering.\n",
      "\n",
      "Rayleigh scattering occurs when sunlight enters Earth's atmosphere and interacts with tiny molecules of gases such as nitrogen (N2) and oxygen (O2). These molecules scatter the shorter, blue wavelengths of light more than the longer, red wavelengths. This scattering effect gives the sky its blue appearance during the daytime.\n",
      "\n",
      "Here's a more detailed explanation:\n",
      "\n",
      "1. Sunlight contains all the colors of the visible spectrum, including red, orange, yellow, green, blue, indigo, and violet.\n",
      "2. When sunlight enters Earth's atmosphere, it encounters tiny molecules of gases such as N2 and O2. These molecules are much smaller than the wavelength of light itself.\n",
      "3. The smaller molecules scatter the shorter wavelengths of light, like blue and violet, more efficiently than the longer wavelengths, like red and orange.\n",
      "4. As a result, our eyes see the scattered blue light more clearly than the unscattered red light, which reaches us directly from the sun.\n",
      "5. This scattering effect is what gives the sky its blue appearance during the daytime.\n",
      "\n",
      "The color of the sky can change under different conditions:\n",
      "\n",
      "* During sunrise and sunset, the sky often appears more orange or reddish due to the scattering of longer wavelengths by atmospheric particles and aerosols.\n",
      "* At night, the sky can appear darker or take on a purplish hue due to the scattering of starlight by atmospheric particles.\n",
      "* In areas with high levels of air pollution or dust, the sky may appear more hazy or gray.\n",
      "\n",
      "So, to summarize, the sky appears blue because of the scattering of sunlight by tiny molecules in Earth's atmosphere, which favors shorter wavelengths like blue over longer wavelengths like red.\n"
     ]
    }
   ],
   "source": [
    "from langchain.llms import Ollama\n",
    "\n",
    "input = input(\"What is your question?\")\n",
    "llm = Ollama(model=\"llama3\")\n",
    "res = llm.invoke(input)\n",
    "print (res)"
   ]
  },
  {
   "cell_type": "code",
   "execution_count": null,
   "id": "446faa93-fb29-4a2f-9684-21cfaacb621f",
   "metadata": {},
   "outputs": [],
   "source": []
  }
 ],
 "metadata": {
  "kernelspec": {
   "display_name": "Python 3 (ipykernel)",
   "language": "python",
   "name": "python3"
  },
  "language_info": {
   "codemirror_mode": {
    "name": "ipython",
    "version": 3
   },
   "file_extension": ".py",
   "mimetype": "text/x-python",
   "name": "python",
   "nbconvert_exporter": "python",
   "pygments_lexer": "ipython3",
   "version": "3.10.13"
  }
 },
 "nbformat": 4,
 "nbformat_minor": 5
}
