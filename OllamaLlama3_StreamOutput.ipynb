{
 "cells": [
  {
   "cell_type": "code",
   "execution_count": 2,
   "id": "3503fdbf-5d14-4b94-a726-762f8d2d69f4",
   "metadata": {},
   "outputs": [
    {
     "name": "stdout",
     "output_type": "stream",
     "text": [
      "The short answer is: scattering!\n",
      "\n",
      "When sunlight enters Earth's atmosphere, it encounters tiny molecules of gases like nitrogen (N2) and oxygen (O2). These molecules scatter the light in all directions, but they don't scatter all wavelengths equally. The shorter, blue wavelengths are scattered more than the longer, red wavelengths.\n",
      "\n",
      "This phenomenon is called Rayleigh scattering, named after the British physicist Lord Rayleigh, who first described it in the late 19th century. The scattering effect is strongest for shorter wavelengths, like blue and violet light, which have a higher energy and are more easily deflected by the small gas molecules.\n",
      "\n",
      "As a result of this selective scattering, our atmosphere appears blue to us because that's the color we see when the sun's white light is scattered in all directions. The blue light from the sun reaches our eyes, making the sky appear blue.\n",
      "\n",
      "Here's a fun fact: This same scattering effect is responsible for the orange and red hues during sunrise and sunset, when the sun's light has to travel longer distances through more of the atmosphere, scattering even more of the shorter wavelengths and leaving mainly the longer, redder wavelengths to reach our eyes!\n",
      "\n",
      "Now, you might be wondering about the sky's apparent blue color on a cloudy day or at night. That's because the clouds and the Earth's surface reflect some of the scattered light back into space, making it appear bluer than it would if there were no cloud cover. At night, the Moon and stars can still scatter some of the shorter wavelengths, contributing to the sky's blue-ish hue.\n",
      "\n",
      "So, to summarize: the sky appears blue because of the scattering of sunlight by tiny gas molecules in our atmosphere, with shorter wavelengths like blue being scattered more than longer wavelengths like red!"
     ]
    }
   ],
   "source": [
    "import ollama\n",
    "\n",
    "stream = ollama.chat(\n",
    "    model='llama3',\n",
    "    messages=[{'role': 'user', 'content': 'Why is the sky blue?'}],\n",
    "    stream=True,\n",
    ")\n",
    "\n",
    "for chunk in stream:\n",
    "  print(chunk['message']['content'], end='', flush=True)"
   ]
  },
  {
   "cell_type": "code",
   "execution_count": null,
   "id": "65d4a6ab-28f8-4c9e-8df4-529d74759a30",
   "metadata": {},
   "outputs": [],
   "source": []
  },
  {
   "cell_type": "code",
   "execution_count": null,
   "id": "46231a1f-e9d4-48f7-83ca-cfed333b7cc2",
   "metadata": {},
   "outputs": [],
   "source": []
  },
  {
   "cell_type": "code",
   "execution_count": null,
   "id": "dfa10158-6239-4872-a916-de99ecfeb27c",
   "metadata": {},
   "outputs": [],
   "source": []
  },
  {
   "cell_type": "code",
   "execution_count": null,
   "id": "c8626726-8aa6-4499-bed4-eb2d0cca9daf",
   "metadata": {},
   "outputs": [],
   "source": []
  },
  {
   "cell_type": "code",
   "execution_count": null,
   "id": "581c1dd8-8e92-4156-b730-a3511f817014",
   "metadata": {},
   "outputs": [],
   "source": []
  }
 ],
 "metadata": {
  "kernelspec": {
   "display_name": "Python 3 (ipykernel)",
   "language": "python",
   "name": "python3"
  },
  "language_info": {
   "codemirror_mode": {
    "name": "ipython",
    "version": 3
   },
   "file_extension": ".py",
   "mimetype": "text/x-python",
   "name": "python",
   "nbconvert_exporter": "python",
   "pygments_lexer": "ipython3",
   "version": "3.10.13"
  }
 },
 "nbformat": 4,
 "nbformat_minor": 5
}
